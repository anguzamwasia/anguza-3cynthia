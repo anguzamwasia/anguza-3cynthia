{
 "cells": [
  {
   "cell_type": "code",
   "execution_count": 8,
   "id": "103bc5da-d934-49e4-9da3-2fe4895a57bf",
   "metadata": {},
   "outputs": [
    {
     "ename": "ModuleNotFoundError",
     "evalue": "No module named 'pandas'",
     "output_type": "error",
     "traceback": [
      "\u001b[1;31m---------------------------------------------------------------------------\u001b[0m",
      "\u001b[1;31mModuleNotFoundError\u001b[0m                       Traceback (most recent call last)",
      "Cell \u001b[1;32mIn[8], line 3\u001b[0m\n\u001b[0;32m      1\u001b[0m \u001b[38;5;66;03m#import necessary libraries\u001b[39;00m\n\u001b[1;32m----> 3\u001b[0m \u001b[38;5;28;01mimport\u001b[39;00m \u001b[38;5;21;01mpandas\u001b[39;00m \u001b[38;5;28;01mas\u001b[39;00m \u001b[38;5;21;01mpd\u001b[39;00m\n\u001b[0;32m      4\u001b[0m \u001b[38;5;28;01mimport\u001b[39;00m \u001b[38;5;21;01mnumpy\u001b[39;00m \u001b[38;5;28;01mas\u001b[39;00m \u001b[38;5;21;01mnp\u001b[39;00m\n\u001b[0;32m      5\u001b[0m \u001b[38;5;28;01mimport\u001b[39;00m \u001b[38;5;21;01mmatplotlib\u001b[39;00m\u001b[38;5;21;01m.\u001b[39;00m\u001b[38;5;21;01mpyplot\u001b[39;00m \u001b[38;5;28;01mas\u001b[39;00m \u001b[38;5;21;01mplt\u001b[39;00m\n",
      "\u001b[1;31mModuleNotFoundError\u001b[0m: No module named 'pandas'"
     ]
    }
   ],
   "source": [
    "#import necessary libraries\n",
    "\n",
    "import pandas as pd\n",
    "import numpy as np\n",
    "import matplotlib.pyplot as plt\n",
    "import seaborn as sns\n",
    "\n",
    "#read csv file\n",
    "data = pd.read_csv('Seattle_Real_Time_Fire_911_Calls.csv')"
   ]
  },
  {
   "cell_type": "code",
   "execution_count": null,
   "id": "7d876f2c-e878-4584-8fb9-2248b596b81f",
   "metadata": {},
   "outputs": [],
   "source": [
    "#print first and last rows of the data\n",
    "print(data.head())"
   ]
  },
  {
   "cell_type": "code",
   "execution_count": null,
   "id": "65daf6e4-6c28-493b-b362-57f1df744457",
   "metadata": {},
   "outputs": [],
   "source": [
    "# Get a summary of the dataset\n",
    "print(data.info())"
   ]
  },
  {
   "cell_type": "code",
   "execution_count": null,
   "id": "ac658e43-a712-4fb8-a2b4-f1ca15473d9d",
   "metadata": {},
   "outputs": [],
   "source": [
    "# Check basic statistics of the numerical variables\n",
    "print(data.describe())"
   ]
  },
  {
   "cell_type": "code",
   "execution_count": null,
   "id": "2c13a167-6d16-418e-845d-d5a7cb958a6b",
   "metadata": {},
   "outputs": [],
   "source": [
    "# Check for missing values\n",
    "print(data.isnull().sum())"
   ]
  },
  {
   "cell_type": "code",
   "execution_count": null,
   "id": "f3673b33-793c-4115-a9f7-bf31d875ebe7",
   "metadata": {},
   "outputs": [],
   "source": [
    "sns.histplot(data['Datetime'], kde=True)\n",
    "plt.show()"
   ]
  },
  {
   "cell_type": "code",
   "execution_count": null,
   "id": "6d53b819-bfe9-4bb1-97be-b3a495c30451",
   "metadata": {},
   "outputs": [],
   "source": [
    "sns.histplot(data['Latitude'], kde=True)\n",
    "plt.show()"
   ]
  },
  {
   "cell_type": "code",
   "execution_count": null,
   "id": "01d6675f-bee1-4637-a6eb-f07fb3a31dde",
   "metadata": {},
   "outputs": [],
   "source": [
    "sns.histplot(data['Longitude'], kde=True)\n",
    "plt.show()"
   ]
  },
  {
   "cell_type": "code",
   "execution_count": null,
   "id": "c394f622-7b96-4483-a9d3-ac20d8a494dd",
   "metadata": {},
   "outputs": [],
   "source": [
    "sns.boxplot(x='Latitude', data=data)\n",
    "plt.show()"
   ]
  },
  {
   "cell_type": "code",
   "execution_count": null,
   "id": "b692ad17-18c4-492b-a31f-c5b5fc896600",
   "metadata": {},
   "outputs": [],
   "source": [
    "sns.boxplot(x='Longitude', data=data)\n",
    "plt.show()"
   ]
  },
  {
   "cell_type": "code",
   "execution_count": null,
   "id": "561b1090-bafa-422a-9d27-9482344886a5",
   "metadata": {},
   "outputs": [],
   "source": [
    "plt.scatter(data['Latitude'], data['Longitude'])\n",
    "plt.xlabel('Latitude')\n",
    "plt.ylabel('Longitude')\n",
    "plt.show()"
   ]
  },
  {
   "cell_type": "code",
   "execution_count": null,
   "id": "5e6fc028-f293-466f-92f9-ad772c3f3f76",
   "metadata": {},
   "outputs": [],
   "source": [
    "# convert to datetime\n",
    "data[\"Datetime\"] = pd.to_datetime(data[\"Datetime\"])\n",
    "data[\"DayOfWeek\"] = data[\"Datetime\"].dt.weekday\n",
    "data[\"IsWeekend\"] = data[\"DayOfWeek\"] >= 5\n",
    "\n",
    "# Count incidents by weekday/weekend\n",
    "incident_counts = data.groupby('IsWeekend')['Incident Number'].count()\n",
    "\n",
    "# Create a bar plot\n",
    "sns.barplot(x=incident_counts.index, y=incident_counts.values)\n",
    "plt.xticks([0, 1], ['Weekday', 'Weekend'])\n",
    "plt.xlabel('Day Type')\n",
    "plt.ylabel('Incident Count')\n",
    "plt.title('Incidents on Weekdays vs. Weekends')\n",
    "plt.show()"
   ]
  },
  {
   "cell_type": "code",
   "execution_count": null,
   "id": "77b5739f-26df-4c20-a8a6-1275dce907d9",
   "metadata": {},
   "outputs": [],
   "source": [
    "#top regions\n",
    "top_regions_total = data['Address'].value_counts().head(5)\n",
    "#top jurisdictions\n",
    "top_regions_jurisdiction = data.groupby('Address')['Incident Number'].count().nlargest(5)\n",
    "#incidents per year\n",
    "data['Year'] = pd.to_datetime(data['Datetime']).dt.year\n",
    "top_regions_yearly = data.groupby(['Year', 'Address'])['Incident Number'].count().groupby(level=0, group_keys=False).nlargest(5)\n",
    "#incidents per month\n",
    "data['Month'] = pd.to_datetime(data['Datetime']).dt.month\n",
    "top_regions_monthly = data.groupby(['Month', 'Address'])['Incident Number'].count().groupby(level=0, group_keys=False).nlargest(5)\n",
    "#incidents per week\n",
    "#data['Week'] = pd.to_datetime(data['Datetime']).dt.week\n",
    "#top_regions_weekly = df.groupby(['Week', 'Address'])['Incident Number'].count().groupby(level=0, group_keys=False).nlargest(5)\n",
    "#incidents per day\n",
    "data['Day'] = pd.to_datetime(data['Datetime']).dt.date\n",
    "top_regions_daily = data.groupby(['Day', 'Address'])['Incident Number'].count().groupby(level=0, group_keys=False).nlargest(5)"
   ]
  },
  {
   "cell_type": "code",
   "execution_count": null,
   "id": "c1c32639-b61c-48ac-8940-da5d4443d255",
   "metadata": {},
   "outputs": [],
   "source": [
    "print(top_regions_daily .head())"
   ]
  },
  {
   "cell_type": "code",
   "execution_count": null,
   "id": "6e395aac-fd8d-49fe-907f-5b039c3b0a3b",
   "metadata": {},
   "outputs": [],
   "source": [
    "print(top_regions_yearly .head())"
   ]
  },
  {
   "cell_type": "code",
   "execution_count": null,
   "id": "d9437f0d-b25c-40e7-93e4-f40e060c8dd4",
   "metadata": {},
   "outputs": [],
   "source": [
    "print(top_regions_monthly.head())"
   ]
  },
  {
   "cell_type": "code",
   "execution_count": null,
   "id": "bfee15b5-9200-4a3e-9916-eb5e897f4b95",
   "metadata": {},
   "outputs": [],
   "source": [
    "#popular incidents on a daily basis\n",
    "daily_popular_incidents = data.groupby(data['Datetime'].dt.date)['Type'].value_counts().groupby(level=0).idxmax()\n",
    "print(daily_popular_incidents.head())"
   ]
  },
  {
   "cell_type": "code",
   "execution_count": null,
   "id": "ef90a9a8-a85c-470f-97d7-5aa6d41357ad",
   "metadata": {},
   "outputs": [],
   "source": [
    "#popular incidents on weekdays and weekends\n",
    "weekday_popular_incidents = data[data['IsWeekend'] == False]['Type'].value_counts().idxmax()\n",
    "weekend_popular_incidents = data[data['IsWeekend'] == True]['Type'].value_counts().idxmax()\n",
    "print(weekday_popular_incidents)\n",
    "print(weekend_popular_incidents)"
   ]
  },
  {
   "cell_type": "code",
   "execution_count": null,
   "id": "32fcf67d-01ec-47b6-86a0-002ffb5e6869",
   "metadata": {},
   "outputs": [],
   "source": [
    "# regions that qualify for mobile emergency patrols\n",
    "data['Week'] = data['Datetime'].dt.strftime('%Y-%U')\n",
    "incident_counts = data.groupby(['Address', 'Type', 'Week']).size().reset_index(name='Count')\n",
    "qualified_regions = incident_counts[incident_counts['Count'] > 50]['Address'].unique()\n",
    "print(qualified_regions.tolist())"
   ]
  },
  {
   "cell_type": "code",
   "execution_count": null,
   "id": "7ada0e28-f665-454e-bea8-6327406d0978",
   "metadata": {},
   "outputs": [],
   "source": [
    "#how much revenue the private company makes for every year of its operation\n",
    "medevac_counts = (data['Type'] == 'Medic Response').groupby(data['Year']).size()\n",
    "firevac_counts = (data['Type'] == 'Fire Response').groupby(data['Year']).size()\n",
    "evacuation_counts = medevac_counts + firevac_counts\n",
    "rate_per_evacuation = 100\n",
    "revenue_per_year = evacuation_counts * rate_per_evacuation\n",
    "print(revenue_per_year)"
   ]
  },
  {
   "cell_type": "code",
   "execution_count": null,
   "id": "ba1ad248-f287-4fca-a494-3989aa1c032c",
   "metadata": {},
   "outputs": [],
   "source": []
  }
 ],
 "metadata": {
  "kernelspec": {
   "display_name": "Python 3 (ipykernel)",
   "language": "python",
   "name": "python3"
  },
  "language_info": {
   "codemirror_mode": {
    "name": "ipython",
    "version": 3
   },
   "file_extension": ".py",
   "mimetype": "text/x-python",
   "name": "python",
   "nbconvert_exporter": "python",
   "pygments_lexer": "ipython3",
   "version": "3.12.0"
  }
 },
 "nbformat": 4,
 "nbformat_minor": 5
}
